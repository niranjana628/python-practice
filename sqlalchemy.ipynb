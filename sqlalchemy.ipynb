{
 "cells": [
  {
   "cell_type": "code",
   "execution_count": 8,
   "id": "9da12bc0",
   "metadata": {},
   "outputs": [
    {
     "name": "stdout",
     "output_type": "stream",
     "text": [
      "2023-03-29 10:57:17,779 INFO sqlalchemy.engine.Engine BEGIN (implicit)\n",
      "2023-03-29 10:57:17,780 INFO sqlalchemy.engine.Engine PRAGMA main.table_info(\"students\")\n",
      "2023-03-29 10:57:17,782 INFO sqlalchemy.engine.Engine [raw sql] ()\n",
      "2023-03-29 10:57:17,785 INFO sqlalchemy.engine.Engine COMMIT\n",
      "2023-03-29 10:57:17,789 INFO sqlalchemy.engine.Engine INSERT INTO students (sno, firstname, lastname) VALUES (?, ?, ?)\n",
      "2023-03-29 10:57:17,790 INFO sqlalchemy.engine.Engine [generated in 0.00149s] (1, 'Jay', 'Joe')\n",
      "2023-03-29 10:57:17,792 INFO sqlalchemy.engine.Engine ROLLBACK\n"
     ]
    },
    {
     "ename": "OperationalError",
     "evalue": "(sqlite3.OperationalError) table students has no column named sno\n[SQL: INSERT INTO students (sno, firstname, lastname) VALUES (?, ?, ?)]\n[parameters: (1, 'Jay', 'Joe')]\n(Background on this error at: https://sqlalche.me/e/14/e3q8)",
     "output_type": "error",
     "traceback": [
      "\u001b[1;31m---------------------------------------------------------------------------\u001b[0m",
      "\u001b[1;31mOperationalError\u001b[0m                          Traceback (most recent call last)",
      "File \u001b[1;32m~\\anaconda3\\lib\\site-packages\\sqlalchemy\\engine\\base.py:1808\u001b[0m, in \u001b[0;36mConnection._execute_context\u001b[1;34m(self, dialect, constructor, statement, parameters, execution_options, *args, **kw)\u001b[0m\n\u001b[0;32m   1807\u001b[0m     \u001b[38;5;28;01mif\u001b[39;00m \u001b[38;5;129;01mnot\u001b[39;00m evt_handled:\n\u001b[1;32m-> 1808\u001b[0m         \u001b[38;5;28;43mself\u001b[39;49m\u001b[38;5;241;43m.\u001b[39;49m\u001b[43mdialect\u001b[49m\u001b[38;5;241;43m.\u001b[39;49m\u001b[43mdo_execute\u001b[49m\u001b[43m(\u001b[49m\n\u001b[0;32m   1809\u001b[0m \u001b[43m            \u001b[49m\u001b[43mcursor\u001b[49m\u001b[43m,\u001b[49m\u001b[43m \u001b[49m\u001b[43mstatement\u001b[49m\u001b[43m,\u001b[49m\u001b[43m \u001b[49m\u001b[43mparameters\u001b[49m\u001b[43m,\u001b[49m\u001b[43m \u001b[49m\u001b[43mcontext\u001b[49m\n\u001b[0;32m   1810\u001b[0m \u001b[43m        \u001b[49m\u001b[43m)\u001b[49m\n\u001b[0;32m   1812\u001b[0m \u001b[38;5;28;01mif\u001b[39;00m \u001b[38;5;28mself\u001b[39m\u001b[38;5;241m.\u001b[39m_has_events \u001b[38;5;129;01mor\u001b[39;00m \u001b[38;5;28mself\u001b[39m\u001b[38;5;241m.\u001b[39mengine\u001b[38;5;241m.\u001b[39m_has_events:\n",
      "File \u001b[1;32m~\\anaconda3\\lib\\site-packages\\sqlalchemy\\engine\\default.py:732\u001b[0m, in \u001b[0;36mDefaultDialect.do_execute\u001b[1;34m(self, cursor, statement, parameters, context)\u001b[0m\n\u001b[0;32m    731\u001b[0m \u001b[38;5;28;01mdef\u001b[39;00m \u001b[38;5;21mdo_execute\u001b[39m(\u001b[38;5;28mself\u001b[39m, cursor, statement, parameters, context\u001b[38;5;241m=\u001b[39m\u001b[38;5;28;01mNone\u001b[39;00m):\n\u001b[1;32m--> 732\u001b[0m     \u001b[43mcursor\u001b[49m\u001b[38;5;241;43m.\u001b[39;49m\u001b[43mexecute\u001b[49m\u001b[43m(\u001b[49m\u001b[43mstatement\u001b[49m\u001b[43m,\u001b[49m\u001b[43m \u001b[49m\u001b[43mparameters\u001b[49m\u001b[43m)\u001b[49m\n",
      "\u001b[1;31mOperationalError\u001b[0m: table students has no column named sno",
      "\nThe above exception was the direct cause of the following exception:\n",
      "\u001b[1;31mOperationalError\u001b[0m                          Traceback (most recent call last)",
      "Input \u001b[1;32mIn [8]\u001b[0m, in \u001b[0;36m<cell line: 17>\u001b[1;34m()\u001b[0m\n\u001b[0;32m     13\u001b[0m conn\u001b[38;5;241m=\u001b[39mengine\u001b[38;5;241m.\u001b[39mconnect()\n\u001b[0;32m     15\u001b[0m ins\u001b[38;5;241m=\u001b[39mstudents\u001b[38;5;241m.\u001b[39minsert()\u001b[38;5;241m.\u001b[39mvalues(sno\u001b[38;5;241m=\u001b[39m\u001b[38;5;241m1\u001b[39m,firstname\u001b[38;5;241m=\u001b[39m\u001b[38;5;124m'\u001b[39m\u001b[38;5;124mJay\u001b[39m\u001b[38;5;124m'\u001b[39m,lastname\u001b[38;5;241m=\u001b[39m\u001b[38;5;124m'\u001b[39m\u001b[38;5;124mJoe\u001b[39m\u001b[38;5;124m'\u001b[39m)\n\u001b[1;32m---> 17\u001b[0m result\u001b[38;5;241m=\u001b[39m\u001b[43mconn\u001b[49m\u001b[38;5;241;43m.\u001b[39;49m\u001b[43mexecute\u001b[49m\u001b[43m(\u001b[49m\u001b[43mins\u001b[49m\u001b[43m)\u001b[49m\n\u001b[0;32m     18\u001b[0m result\u001b[38;5;241m.\u001b[39minserted_primary_key\n",
      "File \u001b[1;32m~\\anaconda3\\lib\\site-packages\\sqlalchemy\\engine\\base.py:1295\u001b[0m, in \u001b[0;36mConnection.execute\u001b[1;34m(self, statement, *multiparams, **params)\u001b[0m\n\u001b[0;32m   1291\u001b[0m     util\u001b[38;5;241m.\u001b[39mraise_(\n\u001b[0;32m   1292\u001b[0m         exc\u001b[38;5;241m.\u001b[39mObjectNotExecutableError(statement), replace_context\u001b[38;5;241m=\u001b[39merr\n\u001b[0;32m   1293\u001b[0m     )\n\u001b[0;32m   1294\u001b[0m \u001b[38;5;28;01melse\u001b[39;00m:\n\u001b[1;32m-> 1295\u001b[0m     \u001b[38;5;28;01mreturn\u001b[39;00m \u001b[43mmeth\u001b[49m\u001b[43m(\u001b[49m\u001b[38;5;28;43mself\u001b[39;49m\u001b[43m,\u001b[49m\u001b[43m \u001b[49m\u001b[43mmultiparams\u001b[49m\u001b[43m,\u001b[49m\u001b[43m \u001b[49m\u001b[43mparams\u001b[49m\u001b[43m,\u001b[49m\u001b[43m \u001b[49m\u001b[43m_EMPTY_EXECUTION_OPTS\u001b[49m\u001b[43m)\u001b[49m\n",
      "File \u001b[1;32m~\\anaconda3\\lib\\site-packages\\sqlalchemy\\sql\\elements.py:325\u001b[0m, in \u001b[0;36mClauseElement._execute_on_connection\u001b[1;34m(self, connection, multiparams, params, execution_options, _force)\u001b[0m\n\u001b[0;32m    321\u001b[0m \u001b[38;5;28;01mdef\u001b[39;00m \u001b[38;5;21m_execute_on_connection\u001b[39m(\n\u001b[0;32m    322\u001b[0m     \u001b[38;5;28mself\u001b[39m, connection, multiparams, params, execution_options, _force\u001b[38;5;241m=\u001b[39m\u001b[38;5;28;01mFalse\u001b[39;00m\n\u001b[0;32m    323\u001b[0m ):\n\u001b[0;32m    324\u001b[0m     \u001b[38;5;28;01mif\u001b[39;00m _force \u001b[38;5;129;01mor\u001b[39;00m \u001b[38;5;28mself\u001b[39m\u001b[38;5;241m.\u001b[39msupports_execution:\n\u001b[1;32m--> 325\u001b[0m         \u001b[38;5;28;01mreturn\u001b[39;00m \u001b[43mconnection\u001b[49m\u001b[38;5;241;43m.\u001b[39;49m\u001b[43m_execute_clauseelement\u001b[49m\u001b[43m(\u001b[49m\n\u001b[0;32m    326\u001b[0m \u001b[43m            \u001b[49m\u001b[38;5;28;43mself\u001b[39;49m\u001b[43m,\u001b[49m\u001b[43m \u001b[49m\u001b[43mmultiparams\u001b[49m\u001b[43m,\u001b[49m\u001b[43m \u001b[49m\u001b[43mparams\u001b[49m\u001b[43m,\u001b[49m\u001b[43m \u001b[49m\u001b[43mexecution_options\u001b[49m\n\u001b[0;32m    327\u001b[0m \u001b[43m        \u001b[49m\u001b[43m)\u001b[49m\n\u001b[0;32m    328\u001b[0m     \u001b[38;5;28;01melse\u001b[39;00m:\n\u001b[0;32m    329\u001b[0m         \u001b[38;5;28;01mraise\u001b[39;00m exc\u001b[38;5;241m.\u001b[39mObjectNotExecutableError(\u001b[38;5;28mself\u001b[39m)\n",
      "File \u001b[1;32m~\\anaconda3\\lib\\site-packages\\sqlalchemy\\engine\\base.py:1487\u001b[0m, in \u001b[0;36mConnection._execute_clauseelement\u001b[1;34m(self, elem, multiparams, params, execution_options)\u001b[0m\n\u001b[0;32m   1475\u001b[0m compiled_cache \u001b[38;5;241m=\u001b[39m execution_options\u001b[38;5;241m.\u001b[39mget(\n\u001b[0;32m   1476\u001b[0m     \u001b[38;5;124m\"\u001b[39m\u001b[38;5;124mcompiled_cache\u001b[39m\u001b[38;5;124m\"\u001b[39m, \u001b[38;5;28mself\u001b[39m\u001b[38;5;241m.\u001b[39mengine\u001b[38;5;241m.\u001b[39m_compiled_cache\n\u001b[0;32m   1477\u001b[0m )\n\u001b[0;32m   1479\u001b[0m compiled_sql, extracted_params, cache_hit \u001b[38;5;241m=\u001b[39m elem\u001b[38;5;241m.\u001b[39m_compile_w_cache(\n\u001b[0;32m   1480\u001b[0m     dialect\u001b[38;5;241m=\u001b[39mdialect,\n\u001b[0;32m   1481\u001b[0m     compiled_cache\u001b[38;5;241m=\u001b[39mcompiled_cache,\n\u001b[1;32m   (...)\u001b[0m\n\u001b[0;32m   1485\u001b[0m     linting\u001b[38;5;241m=\u001b[39m\u001b[38;5;28mself\u001b[39m\u001b[38;5;241m.\u001b[39mdialect\u001b[38;5;241m.\u001b[39mcompiler_linting \u001b[38;5;241m|\u001b[39m compiler\u001b[38;5;241m.\u001b[39mWARN_LINTING,\n\u001b[0;32m   1486\u001b[0m )\n\u001b[1;32m-> 1487\u001b[0m ret \u001b[38;5;241m=\u001b[39m \u001b[38;5;28;43mself\u001b[39;49m\u001b[38;5;241;43m.\u001b[39;49m\u001b[43m_execute_context\u001b[49m\u001b[43m(\u001b[49m\n\u001b[0;32m   1488\u001b[0m \u001b[43m    \u001b[49m\u001b[43mdialect\u001b[49m\u001b[43m,\u001b[49m\n\u001b[0;32m   1489\u001b[0m \u001b[43m    \u001b[49m\u001b[43mdialect\u001b[49m\u001b[38;5;241;43m.\u001b[39;49m\u001b[43mexecution_ctx_cls\u001b[49m\u001b[38;5;241;43m.\u001b[39;49m\u001b[43m_init_compiled\u001b[49m\u001b[43m,\u001b[49m\n\u001b[0;32m   1490\u001b[0m \u001b[43m    \u001b[49m\u001b[43mcompiled_sql\u001b[49m\u001b[43m,\u001b[49m\n\u001b[0;32m   1491\u001b[0m \u001b[43m    \u001b[49m\u001b[43mdistilled_params\u001b[49m\u001b[43m,\u001b[49m\n\u001b[0;32m   1492\u001b[0m \u001b[43m    \u001b[49m\u001b[43mexecution_options\u001b[49m\u001b[43m,\u001b[49m\n\u001b[0;32m   1493\u001b[0m \u001b[43m    \u001b[49m\u001b[43mcompiled_sql\u001b[49m\u001b[43m,\u001b[49m\n\u001b[0;32m   1494\u001b[0m \u001b[43m    \u001b[49m\u001b[43mdistilled_params\u001b[49m\u001b[43m,\u001b[49m\n\u001b[0;32m   1495\u001b[0m \u001b[43m    \u001b[49m\u001b[43melem\u001b[49m\u001b[43m,\u001b[49m\n\u001b[0;32m   1496\u001b[0m \u001b[43m    \u001b[49m\u001b[43mextracted_params\u001b[49m\u001b[43m,\u001b[49m\n\u001b[0;32m   1497\u001b[0m \u001b[43m    \u001b[49m\u001b[43mcache_hit\u001b[49m\u001b[38;5;241;43m=\u001b[39;49m\u001b[43mcache_hit\u001b[49m\u001b[43m,\u001b[49m\n\u001b[0;32m   1498\u001b[0m \u001b[43m\u001b[49m\u001b[43m)\u001b[49m\n\u001b[0;32m   1499\u001b[0m \u001b[38;5;28;01mif\u001b[39;00m has_events:\n\u001b[0;32m   1500\u001b[0m     \u001b[38;5;28mself\u001b[39m\u001b[38;5;241m.\u001b[39mdispatch\u001b[38;5;241m.\u001b[39mafter_execute(\n\u001b[0;32m   1501\u001b[0m         \u001b[38;5;28mself\u001b[39m,\n\u001b[0;32m   1502\u001b[0m         elem,\n\u001b[1;32m   (...)\u001b[0m\n\u001b[0;32m   1506\u001b[0m         ret,\n\u001b[0;32m   1507\u001b[0m     )\n",
      "File \u001b[1;32m~\\anaconda3\\lib\\site-packages\\sqlalchemy\\engine\\base.py:1851\u001b[0m, in \u001b[0;36mConnection._execute_context\u001b[1;34m(self, dialect, constructor, statement, parameters, execution_options, *args, **kw)\u001b[0m\n\u001b[0;32m   1848\u001b[0m             branched\u001b[38;5;241m.\u001b[39mclose()\n\u001b[0;32m   1850\u001b[0m \u001b[38;5;28;01mexcept\u001b[39;00m \u001b[38;5;167;01mBaseException\u001b[39;00m \u001b[38;5;28;01mas\u001b[39;00m e:\n\u001b[1;32m-> 1851\u001b[0m     \u001b[38;5;28;43mself\u001b[39;49m\u001b[38;5;241;43m.\u001b[39;49m\u001b[43m_handle_dbapi_exception\u001b[49m\u001b[43m(\u001b[49m\n\u001b[0;32m   1852\u001b[0m \u001b[43m        \u001b[49m\u001b[43me\u001b[49m\u001b[43m,\u001b[49m\u001b[43m \u001b[49m\u001b[43mstatement\u001b[49m\u001b[43m,\u001b[49m\u001b[43m \u001b[49m\u001b[43mparameters\u001b[49m\u001b[43m,\u001b[49m\u001b[43m \u001b[49m\u001b[43mcursor\u001b[49m\u001b[43m,\u001b[49m\u001b[43m \u001b[49m\u001b[43mcontext\u001b[49m\n\u001b[0;32m   1853\u001b[0m \u001b[43m    \u001b[49m\u001b[43m)\u001b[49m\n\u001b[0;32m   1855\u001b[0m \u001b[38;5;28;01mreturn\u001b[39;00m result\n",
      "File \u001b[1;32m~\\anaconda3\\lib\\site-packages\\sqlalchemy\\engine\\base.py:2032\u001b[0m, in \u001b[0;36mConnection._handle_dbapi_exception\u001b[1;34m(self, e, statement, parameters, cursor, context)\u001b[0m\n\u001b[0;32m   2030\u001b[0m     util\u001b[38;5;241m.\u001b[39mraise_(newraise, with_traceback\u001b[38;5;241m=\u001b[39mexc_info[\u001b[38;5;241m2\u001b[39m], from_\u001b[38;5;241m=\u001b[39me)\n\u001b[0;32m   2031\u001b[0m \u001b[38;5;28;01melif\u001b[39;00m should_wrap:\n\u001b[1;32m-> 2032\u001b[0m     \u001b[43mutil\u001b[49m\u001b[38;5;241;43m.\u001b[39;49m\u001b[43mraise_\u001b[49m\u001b[43m(\u001b[49m\n\u001b[0;32m   2033\u001b[0m \u001b[43m        \u001b[49m\u001b[43msqlalchemy_exception\u001b[49m\u001b[43m,\u001b[49m\u001b[43m \u001b[49m\u001b[43mwith_traceback\u001b[49m\u001b[38;5;241;43m=\u001b[39;49m\u001b[43mexc_info\u001b[49m\u001b[43m[\u001b[49m\u001b[38;5;241;43m2\u001b[39;49m\u001b[43m]\u001b[49m\u001b[43m,\u001b[49m\u001b[43m \u001b[49m\u001b[43mfrom_\u001b[49m\u001b[38;5;241;43m=\u001b[39;49m\u001b[43me\u001b[49m\n\u001b[0;32m   2034\u001b[0m \u001b[43m    \u001b[49m\u001b[43m)\u001b[49m\n\u001b[0;32m   2035\u001b[0m \u001b[38;5;28;01melse\u001b[39;00m:\n\u001b[0;32m   2036\u001b[0m     util\u001b[38;5;241m.\u001b[39mraise_(exc_info[\u001b[38;5;241m1\u001b[39m], with_traceback\u001b[38;5;241m=\u001b[39mexc_info[\u001b[38;5;241m2\u001b[39m])\n",
      "File \u001b[1;32m~\\anaconda3\\lib\\site-packages\\sqlalchemy\\util\\compat.py:207\u001b[0m, in \u001b[0;36mraise_\u001b[1;34m(***failed resolving arguments***)\u001b[0m\n\u001b[0;32m    204\u001b[0m     exception\u001b[38;5;241m.\u001b[39m__cause__ \u001b[38;5;241m=\u001b[39m replace_context\n\u001b[0;32m    206\u001b[0m \u001b[38;5;28;01mtry\u001b[39;00m:\n\u001b[1;32m--> 207\u001b[0m     \u001b[38;5;28;01mraise\u001b[39;00m exception\n\u001b[0;32m    208\u001b[0m \u001b[38;5;28;01mfinally\u001b[39;00m:\n\u001b[0;32m    209\u001b[0m     \u001b[38;5;66;03m# credit to\u001b[39;00m\n\u001b[0;32m    210\u001b[0m     \u001b[38;5;66;03m# https://cosmicpercolator.com/2016/01/13/exception-leaks-in-python-2-and-3/\u001b[39;00m\n\u001b[0;32m    211\u001b[0m     \u001b[38;5;66;03m# as the __traceback__ object creates a cycle\u001b[39;00m\n\u001b[0;32m    212\u001b[0m     \u001b[38;5;28;01mdel\u001b[39;00m exception, replace_context, from_, with_traceback\n",
      "File \u001b[1;32m~\\anaconda3\\lib\\site-packages\\sqlalchemy\\engine\\base.py:1808\u001b[0m, in \u001b[0;36mConnection._execute_context\u001b[1;34m(self, dialect, constructor, statement, parameters, execution_options, *args, **kw)\u001b[0m\n\u001b[0;32m   1806\u001b[0m                 \u001b[38;5;28;01mbreak\u001b[39;00m\n\u001b[0;32m   1807\u001b[0m     \u001b[38;5;28;01mif\u001b[39;00m \u001b[38;5;129;01mnot\u001b[39;00m evt_handled:\n\u001b[1;32m-> 1808\u001b[0m         \u001b[38;5;28;43mself\u001b[39;49m\u001b[38;5;241;43m.\u001b[39;49m\u001b[43mdialect\u001b[49m\u001b[38;5;241;43m.\u001b[39;49m\u001b[43mdo_execute\u001b[49m\u001b[43m(\u001b[49m\n\u001b[0;32m   1809\u001b[0m \u001b[43m            \u001b[49m\u001b[43mcursor\u001b[49m\u001b[43m,\u001b[49m\u001b[43m \u001b[49m\u001b[43mstatement\u001b[49m\u001b[43m,\u001b[49m\u001b[43m \u001b[49m\u001b[43mparameters\u001b[49m\u001b[43m,\u001b[49m\u001b[43m \u001b[49m\u001b[43mcontext\u001b[49m\n\u001b[0;32m   1810\u001b[0m \u001b[43m        \u001b[49m\u001b[43m)\u001b[49m\n\u001b[0;32m   1812\u001b[0m \u001b[38;5;28;01mif\u001b[39;00m \u001b[38;5;28mself\u001b[39m\u001b[38;5;241m.\u001b[39m_has_events \u001b[38;5;129;01mor\u001b[39;00m \u001b[38;5;28mself\u001b[39m\u001b[38;5;241m.\u001b[39mengine\u001b[38;5;241m.\u001b[39m_has_events:\n\u001b[0;32m   1813\u001b[0m     \u001b[38;5;28mself\u001b[39m\u001b[38;5;241m.\u001b[39mdispatch\u001b[38;5;241m.\u001b[39mafter_cursor_execute(\n\u001b[0;32m   1814\u001b[0m         \u001b[38;5;28mself\u001b[39m,\n\u001b[0;32m   1815\u001b[0m         cursor,\n\u001b[1;32m   (...)\u001b[0m\n\u001b[0;32m   1819\u001b[0m         context\u001b[38;5;241m.\u001b[39mexecutemany,\n\u001b[0;32m   1820\u001b[0m     )\n",
      "File \u001b[1;32m~\\anaconda3\\lib\\site-packages\\sqlalchemy\\engine\\default.py:732\u001b[0m, in \u001b[0;36mDefaultDialect.do_execute\u001b[1;34m(self, cursor, statement, parameters, context)\u001b[0m\n\u001b[0;32m    731\u001b[0m \u001b[38;5;28;01mdef\u001b[39;00m \u001b[38;5;21mdo_execute\u001b[39m(\u001b[38;5;28mself\u001b[39m, cursor, statement, parameters, context\u001b[38;5;241m=\u001b[39m\u001b[38;5;28;01mNone\u001b[39;00m):\n\u001b[1;32m--> 732\u001b[0m     \u001b[43mcursor\u001b[49m\u001b[38;5;241;43m.\u001b[39;49m\u001b[43mexecute\u001b[49m\u001b[43m(\u001b[49m\u001b[43mstatement\u001b[49m\u001b[43m,\u001b[49m\u001b[43m \u001b[49m\u001b[43mparameters\u001b[49m\u001b[43m)\u001b[49m\n",
      "\u001b[1;31mOperationalError\u001b[0m: (sqlite3.OperationalError) table students has no column named sno\n[SQL: INSERT INTO students (sno, firstname, lastname) VALUES (?, ?, ?)]\n[parameters: (1, 'Jay', 'Joe')]\n(Background on this error at: https://sqlalche.me/e/14/e3q8)"
     ]
    }
   ],
   "source": [
    "from sqlalchemy import create_engine, MetaData, Table, String, Column, Integer\n",
    "\n",
    "engine=create_engine('sqlite:///college.db',echo=True)\n",
    "meta=MetaData()\n",
    "students=Table('students',meta,Column('sno',Integer, primary_key=True), Column('firstname', String), Column('lastname', String))\n",
    "\n",
    "meta.create_all(engine)\n",
    "\n",
    "\n",
    "                               \n",
    "ins=students.insert()\n",
    "\"insert elements into the table Values (:rsno, :firstname,:lastname)\"\n",
    "conn=engine.connect()\n",
    "\n",
    "ins=students.insert().values(sno=1,firstname='Jay',lastname='Joe')\n",
    "\n",
    "result=conn.execute(ins)\n",
    "result.inserted_primary_key\n"
   ]
  },
  {
   "cell_type": "code",
   "execution_count": 35,
   "id": "65b1bc81",
   "metadata": {},
   "outputs": [
    {
     "name": "stdout",
     "output_type": "stream",
     "text": [
      "2023-03-29 00:47:04,580 INFO sqlalchemy.engine.Engine INSERT INTO students (firstname, lastname) VALUES (?, ?)\n",
      "2023-03-29 00:47:04,581 INFO sqlalchemy.engine.Engine [cached since 182.4s ago] (('qq', 'ee'), ('Say', 'Lin'), ('inb', 'fcgh'))\n",
      "2023-03-29 00:47:04,584 INFO sqlalchemy.engine.Engine COMMIT\n"
     ]
    }
   ],
   "source": [
    "ins=students.insert()\n",
    "conn=engine.connect()\n",
    "\n",
    "result=conn.execute(students.insert(),[\n",
    "    {'firstname':'qq','lastname':'ee'},\n",
    "    {'firstname':'Say','lastname':'Lin'},\n",
    "    {'firstname':'inb','lastname':'fcgh'}\n",
    "    ,])\n"
   ]
  },
  {
   "cell_type": "code",
   "execution_count": 37,
   "id": "8890b3df",
   "metadata": {},
   "outputs": [
    {
     "name": "stdout",
     "output_type": "stream",
     "text": [
      "2023-03-29 00:47:47,669 INFO sqlalchemy.engine.Engine SELECT students.id, students.firstname, students.lastname \n",
      "FROM students\n",
      "2023-03-29 00:47:47,670 INFO sqlalchemy.engine.Engine [cached since 225.5s ago] ()\n",
      "(1, 'may', 'joe')\n",
      "(2, 'Jin', 'Joe')\n",
      "(3, 'Min', 'Roe')\n",
      "(4, 'Say', 'Lin')\n",
      "(5, 'Jay', 'Raj')\n",
      "(6, 'Jin', 'Tan')\n",
      "(7, 'Yoon', 'Tan')\n",
      "(8, 'Joon', 'Tan')\n",
      "(9, 'Kook', 'Tan')\n",
      "(10, 'May', 'Joe')\n",
      "(11, 'May', 'Joe')\n",
      "(45, 'boo', 'oiii')\n",
      "(54, 'May', 'Joe')\n",
      "(55, 'boo', 'oiii')\n",
      "(56, 'boo', 'oiii')\n",
      "(57, 'qq', 'ee')\n",
      "(58, 'inb', 'fcgh')\n",
      "(59, 'qq', 'ee')\n",
      "(60, 'inb', 'fcgh')\n",
      "(61, 'qq', 'ee')\n",
      "(62, 'inb', 'fcgh')\n",
      "(63, 'qq', 'ee')\n",
      "(64, 'inb', 'fcgh')\n",
      "(65, 'qq', 'ee')\n",
      "(66, 'Say', 'Lin')\n",
      "(67, 'inb', 'fcgh')\n",
      "(68, 'May', 'Joe')\n",
      "(69, 'Jin', 'Joe')\n",
      "(70, 'Min', 'Roe')\n",
      "(71, 'Say', 'Lin')\n",
      "(72, 'Jay', 'Raj')\n",
      "(73, 'qq', 'ee')\n",
      "(74, 'Say', 'Lin')\n",
      "(75, 'inb', 'fcgh')\n",
      "(76, 'qq', 'ee')\n",
      "(77, 'Say', 'Lin')\n",
      "(78, 'inb', 'fcgh')\n"
     ]
    }
   ],
   "source": [
    "s=students.select()\n",
    "conn=engine.connect()\n",
    "p=conn.execute(s)\n",
    "\n",
    "for i in p:\n",
    "    print(i)"
   ]
  },
  {
   "cell_type": "code",
   "execution_count": 42,
   "id": "0fde91ba",
   "metadata": {},
   "outputs": [
    {
     "name": "stdout",
     "output_type": "stream",
     "text": [
      "2023-03-29 01:02:54,313 INFO sqlalchemy.engine.Engine BEGIN (implicit)\n",
      "2023-03-29 01:02:54,314 INFO sqlalchemy.engine.Engine PRAGMA main.table_info(\"students\")\n",
      "2023-03-29 01:02:54,314 INFO sqlalchemy.engine.Engine [raw sql] ()\n",
      "2023-03-29 01:02:54,317 INFO sqlalchemy.engine.Engine COMMIT\n",
      "2023-03-29 01:02:54,320 INFO sqlalchemy.engine.Engine INSERT INTO students (firstname, lastname) VALUES (?, ?)\n",
      "2023-03-29 01:02:54,321 INFO sqlalchemy.engine.Engine [generated in 0.00089s] ('May', 'Joe')\n",
      "2023-03-29 01:02:54,324 INFO sqlalchemy.engine.Engine COMMIT\n",
      "2023-03-29 01:02:54,335 INFO sqlalchemy.engine.Engine INSERT INTO students (firstname, lastname) VALUES (?, ?)\n",
      "2023-03-29 01:02:54,336 INFO sqlalchemy.engine.Engine [generated in 0.00151s] (('Jin', 'Joe'), ('Min', 'Roe'), ('Say', 'Lin'), ('Jay', 'Raj'))\n",
      "2023-03-29 01:02:54,338 INFO sqlalchemy.engine.Engine COMMIT\n",
      "2023-03-29 01:02:54,348 INFO sqlalchemy.engine.Engine SELECT students.id, students.firstname, students.lastname \n",
      "FROM students\n",
      "2023-03-29 01:02:54,348 INFO sqlalchemy.engine.Engine [generated in 0.00110s] ()\n",
      "(1, 'may', 'joe')\n",
      "(2, 'Jin', 'Joe')\n",
      "(3, 'Min', 'Roe')\n",
      "(4, 'Say', 'Lin')\n",
      "(5, 'Jay', 'Raj')\n",
      "(6, 'Jin', 'Tan')\n",
      "(7, 'Yoon', 'Tan')\n",
      "(8, 'Joon', 'Tan')\n",
      "(9, 'Kook', 'Tan')\n",
      "(45, 'boo', 'oiii')\n",
      "(55, 'boo', 'oiii')\n",
      "(56, 'boo', 'oiii')\n",
      "(57, 'qq', 'ee')\n",
      "(58, 'inb', 'fcgh')\n",
      "(59, 'qq', 'ee')\n",
      "(60, 'inb', 'fcgh')\n",
      "(61, 'qq', 'ee')\n",
      "(62, 'inb', 'fcgh')\n",
      "(63, 'qq', 'ee')\n",
      "(64, 'inb', 'fcgh')\n",
      "(65, 'qq', 'ee')\n",
      "(66, 'Say', 'Lin')\n",
      "(67, 'inb', 'fcgh')\n",
      "(69, 'Jin', 'Joe')\n",
      "(70, 'Min', 'Roe')\n",
      "(71, 'Say', 'Lin')\n",
      "(72, 'Jay', 'Raj')\n",
      "(73, 'qq', 'ee')\n",
      "(74, 'Say', 'Lin')\n",
      "(75, 'inb', 'fcgh')\n",
      "(76, 'qq', 'ee')\n",
      "(77, 'Say', 'Lin')\n",
      "(78, 'inb', 'fcgh')\n",
      "(79, 'May', 'Joe')\n",
      "(80, 'Jin', 'Joe')\n",
      "(81, 'Min', 'Roe')\n",
      "(82, 'Say', 'Lin')\n",
      "(83, 'Jay', 'Raj')\n"
     ]
    }
   ],
   "source": [
    "from sqlalchemy import create_engine,MetaData,Table,Column,Integer,String\n",
    "engine=create_engine('sqlite:///college.db',echo=True)\n",
    "meta=MetaData()\n",
    "students=Table('students',meta,Column('id',Integer,primary_key=True),Column('firstname',String),Column('lastname',String),)\n",
    "meta.create_all(engine)\n",
    "ins=students.insert()\n",
    "'INSERT INTO students(id,firstname,lastname) VALUES(:id,:fristname,:lastname)'\n",
    "conn=engine.connect()\n",
    "ins=students.insert().values(firstname='May',lastname='Joe')\n",
    "result=conn.execute(ins)\n",
    "result.inserted_primary_key\n",
    "conn.execute(students.insert(),[{'firstname':'Jin','lastname':'Joe'},{'firstname':'Min','lastname':'Roe'},{'firstname':'Say','lastname':'Lin'},{'firstname':'Jay','lastname':'Raj'},])\n",
    "s=students.select()\n",
    "conn=engine.connect()\n",
    "result=conn.execute(s)\n",
    "for row in result:\n",
    "    print(row)\n"
   ]
  },
  {
   "cell_type": "code",
   "execution_count": 8,
   "id": "3adc51d1",
   "metadata": {},
   "outputs": [
    {
     "name": "stdout",
     "output_type": "stream",
     "text": [
      "2023-03-29 08:42:17,255 INFO sqlalchemy.engine.Engine DELETE FROM students WHERE students.firstname = ?\n",
      "2023-03-29 08:42:17,256 INFO sqlalchemy.engine.Engine [generated in 0.00130s] ('may',)\n",
      "2023-03-29 08:42:17,258 INFO sqlalchemy.engine.Engine COMMIT\n"
     ]
    }
   ],
   "source": [
    "from sqlalchemy import delete, text\n",
    "dlt=students.delete().where(students.c.firstname=='may')\n",
    "engine.execute(dlt)\n",
    "dlt=students.delete()\n",
    "\n",
    "for i in result:\n",
    "    print(i)"
   ]
  },
  {
   "cell_type": "code",
   "execution_count": 9,
   "id": "99879254",
   "metadata": {},
   "outputs": [
    {
     "name": "stdout",
     "output_type": "stream",
     "text": [
      "2023-03-29 08:42:20,018 INFO sqlalchemy.engine.Engine SELECT * from students\n",
      "2023-03-29 08:42:20,019 INFO sqlalchemy.engine.Engine [generated in 0.00108s] ()\n",
      "\n",
      " (2, 'Jin', 'Joe')\n",
      "\n",
      " (3, 'Min', 'Roe')\n",
      "\n",
      " (4, 'Say', 'Lin')\n",
      "\n",
      " (5, 'Jay', 'Raj')\n",
      "\n",
      " (6, 'Jin', 'Tan')\n",
      "\n",
      " (7, 'Yoon', 'Tan')\n",
      "\n",
      " (8, 'Joon', 'Tan')\n",
      "\n",
      " (9, 'Kook', 'Tan')\n",
      "\n",
      " (45, 'boo', 'oiii')\n",
      "\n",
      " (55, 'boo', 'oiii')\n",
      "\n",
      " (56, 'boo', 'oiii')\n",
      "\n",
      " (58, 'inb', 'fcgh')\n",
      "\n",
      " (60, 'inb', 'fcgh')\n",
      "\n",
      " (62, 'inb', 'fcgh')\n",
      "\n",
      " (64, 'inb', 'fcgh')\n",
      "\n",
      " (66, 'Say', 'Lin')\n",
      "\n",
      " (67, 'inb', 'fcgh')\n",
      "\n",
      " (69, 'Jin', 'Joe')\n",
      "\n",
      " (70, 'Min', 'Roe')\n",
      "\n",
      " (71, 'Say', 'Lin')\n",
      "\n",
      " (72, 'Jay', 'Raj')\n",
      "\n",
      " (74, 'Say', 'Lin')\n",
      "\n",
      " (75, 'inb', 'fcgh')\n",
      "\n",
      " (77, 'Say', 'Lin')\n",
      "\n",
      " (78, 'inb', 'fcgh')\n",
      "\n",
      " (80, 'Jin', 'Joe')\n",
      "\n",
      " (81, 'Min', 'Roe')\n",
      "\n",
      " (82, 'Say', 'Lin')\n",
      "\n",
      " (83, 'Jay', 'Raj')\n",
      "\n",
      " (84, 'jhb', 'gjy')\n",
      "\n",
      " (85, 'jhb', 'gjy')\n",
      "\n",
      " (86, 'ghjk', 'hj')\n",
      "\n",
      " (87, 'ghsdf', 'wedhj')\n",
      "\n",
      " (88, 'ewk', 'fsd')\n"
     ]
    }
   ],
   "source": [
    "sql=text('SELECT * from students')\n",
    "result=engine.execute(sql).fetchall()\n",
    "\n",
    "for record in result:\n",
    "    print('\\n',record)"
   ]
  },
  {
   "cell_type": "code",
   "execution_count": null,
   "id": "75df396f",
   "metadata": {},
   "outputs": [],
   "source": []
  },
  {
   "cell_type": "code",
   "execution_count": 2,
   "id": "2ad201c4",
   "metadata": {},
   "outputs": [
    {
     "name": "stdout",
     "output_type": "stream",
     "text": [
      "2023-03-29 08:34:56,336 INFO sqlalchemy.engine.Engine BEGIN (implicit)\n",
      "2023-03-29 08:34:56,338 INFO sqlalchemy.engine.Engine PRAGMA main.table_info(\"students\")\n",
      "2023-03-29 08:34:56,339 INFO sqlalchemy.engine.Engine [raw sql] ()\n",
      "2023-03-29 08:34:56,341 INFO sqlalchemy.engine.Engine COMMIT\n"
     ]
    }
   ],
   "source": [
    "from sqlalchemy import create_engine,MetaData, Column, Table, Integer, String\n",
    "\n",
    "engine=create_engine('sqlite:///college.db',echo=True)\n",
    "\n",
    "meta=MetaData()\n",
    "\n",
    "students=Table('students',meta,\n",
    "              Column('id',Integer, primary_key=True),\n",
    "              Column('firstname',String),\n",
    "              Column('lastname',String))\n",
    "\n",
    "meta.create_all(engine)"
   ]
  },
  {
   "cell_type": "code",
   "execution_count": 4,
   "id": "48e96ed4",
   "metadata": {},
   "outputs": [
    {
     "name": "stdout",
     "output_type": "stream",
     "text": [
      "2023-03-29 08:37:30,657 INFO sqlalchemy.engine.Engine INSERT INTO students (firstname, lastname) VALUES (?, ?)\n",
      "2023-03-29 08:37:30,659 INFO sqlalchemy.engine.Engine [cached since 9.589s ago] ('jhb', 'gjy')\n",
      "2023-03-29 08:37:30,662 INFO sqlalchemy.engine.Engine COMMIT\n"
     ]
    },
    {
     "data": {
      "text/plain": [
       "(85,)"
      ]
     },
     "execution_count": 4,
     "metadata": {},
     "output_type": "execute_result"
    }
   ],
   "source": [
    "ins=students.insert()\n",
    "conn=engine.connect()\n",
    "ins=students.insert().values(firstname='jhb',lastname='gjy')\n",
    "result=conn.execute(ins)\n",
    "result.inserted_primary_key"
   ]
  },
  {
   "cell_type": "code",
   "execution_count": 6,
   "id": "1dbb4c30",
   "metadata": {},
   "outputs": [
    {
     "name": "stdout",
     "output_type": "stream",
     "text": [
      "2023-03-29 08:40:38,593 INFO sqlalchemy.engine.Engine INSERT INTO students (firstname, lastname) VALUES (?, ?)\n",
      "2023-03-29 08:40:38,595 INFO sqlalchemy.engine.Engine [generated in 0.00218s] (('ghjk', 'hj'), ('ghsdf', 'wedhj'), ('ewk', 'fsd'))\n",
      "2023-03-29 08:40:38,598 INFO sqlalchemy.engine.Engine COMMIT\n"
     ]
    }
   ],
   "source": [
    "result=conn.execute(students.insert(),[\n",
    "    {'firstname':'ghjk','lastname':'hj'},\n",
    "    {'firstname':'ghsdf','lastname':'wedhj'},\n",
    "    {'firstname':'ewk','lastname':'fsd'},\n",
    "     ])"
   ]
  },
  {
   "cell_type": "code",
   "execution_count": 7,
   "id": "5e552535",
   "metadata": {},
   "outputs": [
    {
     "name": "stdout",
     "output_type": "stream",
     "text": [
      "2023-03-29 08:41:14,158 INFO sqlalchemy.engine.Engine SELECT students.id, students.firstname, students.lastname \n",
      "FROM students\n",
      "2023-03-29 08:41:14,160 INFO sqlalchemy.engine.Engine [generated in 0.00085s] ()\n",
      "(2, 'Jin', 'Joe')\n",
      "(3, 'Min', 'Roe')\n",
      "(4, 'Say', 'Lin')\n",
      "(5, 'Jay', 'Raj')\n",
      "(6, 'Jin', 'Tan')\n",
      "(7, 'Yoon', 'Tan')\n",
      "(8, 'Joon', 'Tan')\n",
      "(9, 'Kook', 'Tan')\n",
      "(45, 'boo', 'oiii')\n",
      "(55, 'boo', 'oiii')\n",
      "(56, 'boo', 'oiii')\n",
      "(58, 'inb', 'fcgh')\n",
      "(60, 'inb', 'fcgh')\n",
      "(62, 'inb', 'fcgh')\n",
      "(64, 'inb', 'fcgh')\n",
      "(66, 'Say', 'Lin')\n",
      "(67, 'inb', 'fcgh')\n",
      "(69, 'Jin', 'Joe')\n",
      "(70, 'Min', 'Roe')\n",
      "(71, 'Say', 'Lin')\n",
      "(72, 'Jay', 'Raj')\n",
      "(74, 'Say', 'Lin')\n",
      "(75, 'inb', 'fcgh')\n",
      "(77, 'Say', 'Lin')\n",
      "(78, 'inb', 'fcgh')\n",
      "(80, 'Jin', 'Joe')\n",
      "(81, 'Min', 'Roe')\n",
      "(82, 'Say', 'Lin')\n",
      "(83, 'Jay', 'Raj')\n",
      "(84, 'jhb', 'gjy')\n",
      "(85, 'jhb', 'gjy')\n",
      "(86, 'ghjk', 'hj')\n",
      "(87, 'ghsdf', 'wedhj')\n",
      "(88, 'ewk', 'fsd')\n"
     ]
    }
   ],
   "source": [
    "s=students.select()\n",
    "result= conn.execute(s)\n",
    "for i in result:\n",
    "    print(i)"
   ]
  },
  {
   "cell_type": "code",
   "execution_count": 10,
   "id": "d9809889",
   "metadata": {},
   "outputs": [
    {
     "name": "stdout",
     "output_type": "stream",
     "text": [
      "2023-03-29 08:48:22,205 INFO sqlalchemy.engine.Engine SELECT * from students\n",
      "2023-03-29 08:48:22,205 INFO sqlalchemy.engine.Engine [cached since 362.2s ago] ()\n",
      "\n",
      " (2, 'Jin', 'Joe')\n",
      "\n",
      " (3, 'Min', 'Roe')\n",
      "\n",
      " (4, 'Say', 'Lin')\n",
      "\n",
      " (5, 'Jay', 'Raj')\n",
      "\n",
      " (6, 'Jin', 'Tan')\n",
      "\n",
      " (7, 'Yoon', 'Tan')\n",
      "\n",
      " (8, 'Joon', 'Tan')\n",
      "\n",
      " (9, 'Kook', 'Tan')\n",
      "\n",
      " (45, 'boo', 'oiii')\n",
      "\n",
      " (55, 'boo', 'oiii')\n",
      "\n",
      " (56, 'boo', 'oiii')\n",
      "\n",
      " (58, 'inb', 'fcgh')\n",
      "\n",
      " (60, 'inb', 'fcgh')\n",
      "\n",
      " (62, 'inb', 'fcgh')\n",
      "\n",
      " (64, 'inb', 'fcgh')\n",
      "\n",
      " (66, 'Say', 'Lin')\n",
      "\n",
      " (67, 'inb', 'fcgh')\n",
      "\n",
      " (69, 'Jin', 'Joe')\n",
      "\n",
      " (70, 'Min', 'Roe')\n",
      "\n",
      " (71, 'Say', 'Lin')\n",
      "\n",
      " (72, 'Jay', 'Raj')\n",
      "\n",
      " (74, 'Say', 'Lin')\n",
      "\n",
      " (75, 'inb', 'fcgh')\n",
      "\n",
      " (77, 'Say', 'Lin')\n",
      "\n",
      " (78, 'inb', 'fcgh')\n",
      "\n",
      " (80, 'Jin', 'Joe')\n",
      "\n",
      " (81, 'Min', 'Roe')\n",
      "\n",
      " (82, 'Say', 'Lin')\n",
      "\n",
      " (83, 'Jay', 'Raj')\n",
      "\n",
      " (84, 'jhb', 'gjy')\n",
      "\n",
      " (85, 'jhb', 'gjy')\n",
      "\n",
      " (86, 'ghjk', 'hj')\n",
      "\n",
      " (87, 'ghsdf', 'wedhj')\n",
      "\n",
      " (88, 'ewk', 'fsd')\n"
     ]
    }
   ],
   "source": [
    "from sqlalchemy import text\n",
    "sql=text('SELECT * from students')\n",
    "result=engine.execute(sql).fetchall()\n",
    "\n",
    "for record in result:\n",
    "    print('\\n',record)"
   ]
  },
  {
   "cell_type": "code",
   "execution_count": 13,
   "id": "c0ed2961",
   "metadata": {},
   "outputs": [
    {
     "name": "stdout",
     "output_type": "stream",
     "text": [
      "2023-03-29 13:49:49,506 INFO sqlalchemy.engine.Engine BEGIN (implicit)\n",
      "2023-03-29 13:49:49,507 INFO sqlalchemy.engine.Engine PRAGMA main.table_info(\"students\")\n",
      "2023-03-29 13:49:49,510 INFO sqlalchemy.engine.Engine [raw sql] ()\n",
      "2023-03-29 13:49:49,511 INFO sqlalchemy.engine.Engine COMMIT\n",
      "2023-03-29 13:49:49,514 INFO sqlalchemy.engine.Engine INSERT INTO students (id, firstname, lastname) VALUES (?, ?, ?)\n",
      "2023-03-29 13:49:49,515 INFO sqlalchemy.engine.Engine [generated in 0.00152s] (1, 'Jay', 'Joe')\n",
      "2023-03-29 13:49:49,517 INFO sqlalchemy.engine.Engine ROLLBACK\n"
     ]
    },
    {
     "ename": "IntegrityError",
     "evalue": "(sqlite3.IntegrityError) UNIQUE constraint failed: students.id\n[SQL: INSERT INTO students (id, firstname, lastname) VALUES (?, ?, ?)]\n[parameters: (1, 'Jay', 'Joe')]\n(Background on this error at: https://sqlalche.me/e/14/gkpj)",
     "output_type": "error",
     "traceback": [
      "\u001b[1;31m---------------------------------------------------------------------------\u001b[0m",
      "\u001b[1;31mIntegrityError\u001b[0m                            Traceback (most recent call last)",
      "File \u001b[1;32m~\\anaconda3\\lib\\site-packages\\sqlalchemy\\engine\\base.py:1808\u001b[0m, in \u001b[0;36mConnection._execute_context\u001b[1;34m(self, dialect, constructor, statement, parameters, execution_options, *args, **kw)\u001b[0m\n\u001b[0;32m   1807\u001b[0m     \u001b[38;5;28;01mif\u001b[39;00m \u001b[38;5;129;01mnot\u001b[39;00m evt_handled:\n\u001b[1;32m-> 1808\u001b[0m         \u001b[38;5;28;43mself\u001b[39;49m\u001b[38;5;241;43m.\u001b[39;49m\u001b[43mdialect\u001b[49m\u001b[38;5;241;43m.\u001b[39;49m\u001b[43mdo_execute\u001b[49m\u001b[43m(\u001b[49m\n\u001b[0;32m   1809\u001b[0m \u001b[43m            \u001b[49m\u001b[43mcursor\u001b[49m\u001b[43m,\u001b[49m\u001b[43m \u001b[49m\u001b[43mstatement\u001b[49m\u001b[43m,\u001b[49m\u001b[43m \u001b[49m\u001b[43mparameters\u001b[49m\u001b[43m,\u001b[49m\u001b[43m \u001b[49m\u001b[43mcontext\u001b[49m\n\u001b[0;32m   1810\u001b[0m \u001b[43m        \u001b[49m\u001b[43m)\u001b[49m\n\u001b[0;32m   1812\u001b[0m \u001b[38;5;28;01mif\u001b[39;00m \u001b[38;5;28mself\u001b[39m\u001b[38;5;241m.\u001b[39m_has_events \u001b[38;5;129;01mor\u001b[39;00m \u001b[38;5;28mself\u001b[39m\u001b[38;5;241m.\u001b[39mengine\u001b[38;5;241m.\u001b[39m_has_events:\n",
      "File \u001b[1;32m~\\anaconda3\\lib\\site-packages\\sqlalchemy\\engine\\default.py:732\u001b[0m, in \u001b[0;36mDefaultDialect.do_execute\u001b[1;34m(self, cursor, statement, parameters, context)\u001b[0m\n\u001b[0;32m    731\u001b[0m \u001b[38;5;28;01mdef\u001b[39;00m \u001b[38;5;21mdo_execute\u001b[39m(\u001b[38;5;28mself\u001b[39m, cursor, statement, parameters, context\u001b[38;5;241m=\u001b[39m\u001b[38;5;28;01mNone\u001b[39;00m):\n\u001b[1;32m--> 732\u001b[0m     \u001b[43mcursor\u001b[49m\u001b[38;5;241;43m.\u001b[39;49m\u001b[43mexecute\u001b[49m\u001b[43m(\u001b[49m\u001b[43mstatement\u001b[49m\u001b[43m,\u001b[49m\u001b[43m \u001b[49m\u001b[43mparameters\u001b[49m\u001b[43m)\u001b[49m\n",
      "\u001b[1;31mIntegrityError\u001b[0m: UNIQUE constraint failed: students.id",
      "\nThe above exception was the direct cause of the following exception:\n",
      "\u001b[1;31mIntegrityError\u001b[0m                            Traceback (most recent call last)",
      "Input \u001b[1;32mIn [13]\u001b[0m, in \u001b[0;36m<cell line: 19>\u001b[1;34m()\u001b[0m\n\u001b[0;32m     17\u001b[0m conn\u001b[38;5;241m=\u001b[39mengine\u001b[38;5;241m.\u001b[39mconnect()\n\u001b[0;32m     18\u001b[0m ins\u001b[38;5;241m=\u001b[39mstudents\u001b[38;5;241m.\u001b[39minsert()\u001b[38;5;241m.\u001b[39mvalues(\u001b[38;5;28mid\u001b[39m\u001b[38;5;241m=\u001b[39m\u001b[38;5;241m1\u001b[39m,firstname\u001b[38;5;241m=\u001b[39m\u001b[38;5;124m\"\u001b[39m\u001b[38;5;124mJay\u001b[39m\u001b[38;5;124m\"\u001b[39m,lastname\u001b[38;5;241m=\u001b[39m\u001b[38;5;124m'\u001b[39m\u001b[38;5;124mJoe\u001b[39m\u001b[38;5;124m'\u001b[39m)\n\u001b[1;32m---> 19\u001b[0m result\u001b[38;5;241m=\u001b[39m\u001b[43mconn\u001b[49m\u001b[38;5;241;43m.\u001b[39;49m\u001b[43mexecute\u001b[49m\u001b[43m(\u001b[49m\u001b[43mins\u001b[49m\u001b[43m)\u001b[49m\n\u001b[0;32m     20\u001b[0m result\u001b[38;5;241m.\u001b[39minserted_primary_key\n\u001b[0;32m     23\u001b[0m result\u001b[38;5;241m=\u001b[39mconn\u001b[38;5;241m.\u001b[39mexecute(students\u001b[38;5;241m.\u001b[39minsert(),[\n\u001b[0;32m     24\u001b[0m   {\u001b[38;5;124m'\u001b[39m\u001b[38;5;124mfirstname\u001b[39m\u001b[38;5;124m'\u001b[39m:\u001b[38;5;124m'\u001b[39m\u001b[38;5;124mMin\u001b[39m\u001b[38;5;124m'\u001b[39m,\u001b[38;5;124m'\u001b[39m\u001b[38;5;124mlastname\u001b[39m\u001b[38;5;124m'\u001b[39m:\u001b[38;5;124m'\u001b[39m\u001b[38;5;124mJoe\u001b[39m\u001b[38;5;124m'\u001b[39m},\n\u001b[0;32m     25\u001b[0m   {\u001b[38;5;124m'\u001b[39m\u001b[38;5;124mfirstname\u001b[39m\u001b[38;5;124m'\u001b[39m:\u001b[38;5;124m'\u001b[39m\u001b[38;5;124mMrin\u001b[39m\u001b[38;5;124m'\u001b[39m,\u001b[38;5;124m'\u001b[39m\u001b[38;5;124mlastname\u001b[39m\u001b[38;5;124m'\u001b[39m:\u001b[38;5;124m'\u001b[39m\u001b[38;5;124mRoe\u001b[39m\u001b[38;5;124m'\u001b[39m},\n\u001b[0;32m     26\u001b[0m   {\u001b[38;5;124m'\u001b[39m\u001b[38;5;124mfirstname\u001b[39m\u001b[38;5;124m'\u001b[39m:\u001b[38;5;124m'\u001b[39m\u001b[38;5;124mSata\u001b[39m\u001b[38;5;124m'\u001b[39m,\u001b[38;5;124m'\u001b[39m\u001b[38;5;124mlastname\u001b[39m\u001b[38;5;124m'\u001b[39m:\u001b[38;5;124m'\u001b[39m\u001b[38;5;124mLin\u001b[39m\u001b[38;5;124m'\u001b[39m},\n\u001b[0;32m     27\u001b[0m   {\u001b[38;5;124m'\u001b[39m\u001b[38;5;124mfirstname\u001b[39m\u001b[38;5;124m'\u001b[39m:\u001b[38;5;124m'\u001b[39m\u001b[38;5;124mMiya\u001b[39m\u001b[38;5;124m'\u001b[39m,\u001b[38;5;124m'\u001b[39m\u001b[38;5;124mlastname\u001b[39m\u001b[38;5;124m'\u001b[39m:\u001b[38;5;124m'\u001b[39m\u001b[38;5;124mRaj\u001b[39m\u001b[38;5;124m'\u001b[39m},\n\u001b[0;32m     28\u001b[0m ])\n",
      "File \u001b[1;32m~\\anaconda3\\lib\\site-packages\\sqlalchemy\\engine\\base.py:1295\u001b[0m, in \u001b[0;36mConnection.execute\u001b[1;34m(self, statement, *multiparams, **params)\u001b[0m\n\u001b[0;32m   1291\u001b[0m     util\u001b[38;5;241m.\u001b[39mraise_(\n\u001b[0;32m   1292\u001b[0m         exc\u001b[38;5;241m.\u001b[39mObjectNotExecutableError(statement), replace_context\u001b[38;5;241m=\u001b[39merr\n\u001b[0;32m   1293\u001b[0m     )\n\u001b[0;32m   1294\u001b[0m \u001b[38;5;28;01melse\u001b[39;00m:\n\u001b[1;32m-> 1295\u001b[0m     \u001b[38;5;28;01mreturn\u001b[39;00m \u001b[43mmeth\u001b[49m\u001b[43m(\u001b[49m\u001b[38;5;28;43mself\u001b[39;49m\u001b[43m,\u001b[49m\u001b[43m \u001b[49m\u001b[43mmultiparams\u001b[49m\u001b[43m,\u001b[49m\u001b[43m \u001b[49m\u001b[43mparams\u001b[49m\u001b[43m,\u001b[49m\u001b[43m \u001b[49m\u001b[43m_EMPTY_EXECUTION_OPTS\u001b[49m\u001b[43m)\u001b[49m\n",
      "File \u001b[1;32m~\\anaconda3\\lib\\site-packages\\sqlalchemy\\sql\\elements.py:325\u001b[0m, in \u001b[0;36mClauseElement._execute_on_connection\u001b[1;34m(self, connection, multiparams, params, execution_options, _force)\u001b[0m\n\u001b[0;32m    321\u001b[0m \u001b[38;5;28;01mdef\u001b[39;00m \u001b[38;5;21m_execute_on_connection\u001b[39m(\n\u001b[0;32m    322\u001b[0m     \u001b[38;5;28mself\u001b[39m, connection, multiparams, params, execution_options, _force\u001b[38;5;241m=\u001b[39m\u001b[38;5;28;01mFalse\u001b[39;00m\n\u001b[0;32m    323\u001b[0m ):\n\u001b[0;32m    324\u001b[0m     \u001b[38;5;28;01mif\u001b[39;00m _force \u001b[38;5;129;01mor\u001b[39;00m \u001b[38;5;28mself\u001b[39m\u001b[38;5;241m.\u001b[39msupports_execution:\n\u001b[1;32m--> 325\u001b[0m         \u001b[38;5;28;01mreturn\u001b[39;00m \u001b[43mconnection\u001b[49m\u001b[38;5;241;43m.\u001b[39;49m\u001b[43m_execute_clauseelement\u001b[49m\u001b[43m(\u001b[49m\n\u001b[0;32m    326\u001b[0m \u001b[43m            \u001b[49m\u001b[38;5;28;43mself\u001b[39;49m\u001b[43m,\u001b[49m\u001b[43m \u001b[49m\u001b[43mmultiparams\u001b[49m\u001b[43m,\u001b[49m\u001b[43m \u001b[49m\u001b[43mparams\u001b[49m\u001b[43m,\u001b[49m\u001b[43m \u001b[49m\u001b[43mexecution_options\u001b[49m\n\u001b[0;32m    327\u001b[0m \u001b[43m        \u001b[49m\u001b[43m)\u001b[49m\n\u001b[0;32m    328\u001b[0m     \u001b[38;5;28;01melse\u001b[39;00m:\n\u001b[0;32m    329\u001b[0m         \u001b[38;5;28;01mraise\u001b[39;00m exc\u001b[38;5;241m.\u001b[39mObjectNotExecutableError(\u001b[38;5;28mself\u001b[39m)\n",
      "File \u001b[1;32m~\\anaconda3\\lib\\site-packages\\sqlalchemy\\engine\\base.py:1487\u001b[0m, in \u001b[0;36mConnection._execute_clauseelement\u001b[1;34m(self, elem, multiparams, params, execution_options)\u001b[0m\n\u001b[0;32m   1475\u001b[0m compiled_cache \u001b[38;5;241m=\u001b[39m execution_options\u001b[38;5;241m.\u001b[39mget(\n\u001b[0;32m   1476\u001b[0m     \u001b[38;5;124m\"\u001b[39m\u001b[38;5;124mcompiled_cache\u001b[39m\u001b[38;5;124m\"\u001b[39m, \u001b[38;5;28mself\u001b[39m\u001b[38;5;241m.\u001b[39mengine\u001b[38;5;241m.\u001b[39m_compiled_cache\n\u001b[0;32m   1477\u001b[0m )\n\u001b[0;32m   1479\u001b[0m compiled_sql, extracted_params, cache_hit \u001b[38;5;241m=\u001b[39m elem\u001b[38;5;241m.\u001b[39m_compile_w_cache(\n\u001b[0;32m   1480\u001b[0m     dialect\u001b[38;5;241m=\u001b[39mdialect,\n\u001b[0;32m   1481\u001b[0m     compiled_cache\u001b[38;5;241m=\u001b[39mcompiled_cache,\n\u001b[1;32m   (...)\u001b[0m\n\u001b[0;32m   1485\u001b[0m     linting\u001b[38;5;241m=\u001b[39m\u001b[38;5;28mself\u001b[39m\u001b[38;5;241m.\u001b[39mdialect\u001b[38;5;241m.\u001b[39mcompiler_linting \u001b[38;5;241m|\u001b[39m compiler\u001b[38;5;241m.\u001b[39mWARN_LINTING,\n\u001b[0;32m   1486\u001b[0m )\n\u001b[1;32m-> 1487\u001b[0m ret \u001b[38;5;241m=\u001b[39m \u001b[38;5;28;43mself\u001b[39;49m\u001b[38;5;241;43m.\u001b[39;49m\u001b[43m_execute_context\u001b[49m\u001b[43m(\u001b[49m\n\u001b[0;32m   1488\u001b[0m \u001b[43m    \u001b[49m\u001b[43mdialect\u001b[49m\u001b[43m,\u001b[49m\n\u001b[0;32m   1489\u001b[0m \u001b[43m    \u001b[49m\u001b[43mdialect\u001b[49m\u001b[38;5;241;43m.\u001b[39;49m\u001b[43mexecution_ctx_cls\u001b[49m\u001b[38;5;241;43m.\u001b[39;49m\u001b[43m_init_compiled\u001b[49m\u001b[43m,\u001b[49m\n\u001b[0;32m   1490\u001b[0m \u001b[43m    \u001b[49m\u001b[43mcompiled_sql\u001b[49m\u001b[43m,\u001b[49m\n\u001b[0;32m   1491\u001b[0m \u001b[43m    \u001b[49m\u001b[43mdistilled_params\u001b[49m\u001b[43m,\u001b[49m\n\u001b[0;32m   1492\u001b[0m \u001b[43m    \u001b[49m\u001b[43mexecution_options\u001b[49m\u001b[43m,\u001b[49m\n\u001b[0;32m   1493\u001b[0m \u001b[43m    \u001b[49m\u001b[43mcompiled_sql\u001b[49m\u001b[43m,\u001b[49m\n\u001b[0;32m   1494\u001b[0m \u001b[43m    \u001b[49m\u001b[43mdistilled_params\u001b[49m\u001b[43m,\u001b[49m\n\u001b[0;32m   1495\u001b[0m \u001b[43m    \u001b[49m\u001b[43melem\u001b[49m\u001b[43m,\u001b[49m\n\u001b[0;32m   1496\u001b[0m \u001b[43m    \u001b[49m\u001b[43mextracted_params\u001b[49m\u001b[43m,\u001b[49m\n\u001b[0;32m   1497\u001b[0m \u001b[43m    \u001b[49m\u001b[43mcache_hit\u001b[49m\u001b[38;5;241;43m=\u001b[39;49m\u001b[43mcache_hit\u001b[49m\u001b[43m,\u001b[49m\n\u001b[0;32m   1498\u001b[0m \u001b[43m\u001b[49m\u001b[43m)\u001b[49m\n\u001b[0;32m   1499\u001b[0m \u001b[38;5;28;01mif\u001b[39;00m has_events:\n\u001b[0;32m   1500\u001b[0m     \u001b[38;5;28mself\u001b[39m\u001b[38;5;241m.\u001b[39mdispatch\u001b[38;5;241m.\u001b[39mafter_execute(\n\u001b[0;32m   1501\u001b[0m         \u001b[38;5;28mself\u001b[39m,\n\u001b[0;32m   1502\u001b[0m         elem,\n\u001b[1;32m   (...)\u001b[0m\n\u001b[0;32m   1506\u001b[0m         ret,\n\u001b[0;32m   1507\u001b[0m     )\n",
      "File \u001b[1;32m~\\anaconda3\\lib\\site-packages\\sqlalchemy\\engine\\base.py:1851\u001b[0m, in \u001b[0;36mConnection._execute_context\u001b[1;34m(self, dialect, constructor, statement, parameters, execution_options, *args, **kw)\u001b[0m\n\u001b[0;32m   1848\u001b[0m             branched\u001b[38;5;241m.\u001b[39mclose()\n\u001b[0;32m   1850\u001b[0m \u001b[38;5;28;01mexcept\u001b[39;00m \u001b[38;5;167;01mBaseException\u001b[39;00m \u001b[38;5;28;01mas\u001b[39;00m e:\n\u001b[1;32m-> 1851\u001b[0m     \u001b[38;5;28;43mself\u001b[39;49m\u001b[38;5;241;43m.\u001b[39;49m\u001b[43m_handle_dbapi_exception\u001b[49m\u001b[43m(\u001b[49m\n\u001b[0;32m   1852\u001b[0m \u001b[43m        \u001b[49m\u001b[43me\u001b[49m\u001b[43m,\u001b[49m\u001b[43m \u001b[49m\u001b[43mstatement\u001b[49m\u001b[43m,\u001b[49m\u001b[43m \u001b[49m\u001b[43mparameters\u001b[49m\u001b[43m,\u001b[49m\u001b[43m \u001b[49m\u001b[43mcursor\u001b[49m\u001b[43m,\u001b[49m\u001b[43m \u001b[49m\u001b[43mcontext\u001b[49m\n\u001b[0;32m   1853\u001b[0m \u001b[43m    \u001b[49m\u001b[43m)\u001b[49m\n\u001b[0;32m   1855\u001b[0m \u001b[38;5;28;01mreturn\u001b[39;00m result\n",
      "File \u001b[1;32m~\\anaconda3\\lib\\site-packages\\sqlalchemy\\engine\\base.py:2032\u001b[0m, in \u001b[0;36mConnection._handle_dbapi_exception\u001b[1;34m(self, e, statement, parameters, cursor, context)\u001b[0m\n\u001b[0;32m   2030\u001b[0m     util\u001b[38;5;241m.\u001b[39mraise_(newraise, with_traceback\u001b[38;5;241m=\u001b[39mexc_info[\u001b[38;5;241m2\u001b[39m], from_\u001b[38;5;241m=\u001b[39me)\n\u001b[0;32m   2031\u001b[0m \u001b[38;5;28;01melif\u001b[39;00m should_wrap:\n\u001b[1;32m-> 2032\u001b[0m     \u001b[43mutil\u001b[49m\u001b[38;5;241;43m.\u001b[39;49m\u001b[43mraise_\u001b[49m\u001b[43m(\u001b[49m\n\u001b[0;32m   2033\u001b[0m \u001b[43m        \u001b[49m\u001b[43msqlalchemy_exception\u001b[49m\u001b[43m,\u001b[49m\u001b[43m \u001b[49m\u001b[43mwith_traceback\u001b[49m\u001b[38;5;241;43m=\u001b[39;49m\u001b[43mexc_info\u001b[49m\u001b[43m[\u001b[49m\u001b[38;5;241;43m2\u001b[39;49m\u001b[43m]\u001b[49m\u001b[43m,\u001b[49m\u001b[43m \u001b[49m\u001b[43mfrom_\u001b[49m\u001b[38;5;241;43m=\u001b[39;49m\u001b[43me\u001b[49m\n\u001b[0;32m   2034\u001b[0m \u001b[43m    \u001b[49m\u001b[43m)\u001b[49m\n\u001b[0;32m   2035\u001b[0m \u001b[38;5;28;01melse\u001b[39;00m:\n\u001b[0;32m   2036\u001b[0m     util\u001b[38;5;241m.\u001b[39mraise_(exc_info[\u001b[38;5;241m1\u001b[39m], with_traceback\u001b[38;5;241m=\u001b[39mexc_info[\u001b[38;5;241m2\u001b[39m])\n",
      "File \u001b[1;32m~\\anaconda3\\lib\\site-packages\\sqlalchemy\\util\\compat.py:207\u001b[0m, in \u001b[0;36mraise_\u001b[1;34m(***failed resolving arguments***)\u001b[0m\n\u001b[0;32m    204\u001b[0m     exception\u001b[38;5;241m.\u001b[39m__cause__ \u001b[38;5;241m=\u001b[39m replace_context\n\u001b[0;32m    206\u001b[0m \u001b[38;5;28;01mtry\u001b[39;00m:\n\u001b[1;32m--> 207\u001b[0m     \u001b[38;5;28;01mraise\u001b[39;00m exception\n\u001b[0;32m    208\u001b[0m \u001b[38;5;28;01mfinally\u001b[39;00m:\n\u001b[0;32m    209\u001b[0m     \u001b[38;5;66;03m# credit to\u001b[39;00m\n\u001b[0;32m    210\u001b[0m     \u001b[38;5;66;03m# https://cosmicpercolator.com/2016/01/13/exception-leaks-in-python-2-and-3/\u001b[39;00m\n\u001b[0;32m    211\u001b[0m     \u001b[38;5;66;03m# as the __traceback__ object creates a cycle\u001b[39;00m\n\u001b[0;32m    212\u001b[0m     \u001b[38;5;28;01mdel\u001b[39;00m exception, replace_context, from_, with_traceback\n",
      "File \u001b[1;32m~\\anaconda3\\lib\\site-packages\\sqlalchemy\\engine\\base.py:1808\u001b[0m, in \u001b[0;36mConnection._execute_context\u001b[1;34m(self, dialect, constructor, statement, parameters, execution_options, *args, **kw)\u001b[0m\n\u001b[0;32m   1806\u001b[0m                 \u001b[38;5;28;01mbreak\u001b[39;00m\n\u001b[0;32m   1807\u001b[0m     \u001b[38;5;28;01mif\u001b[39;00m \u001b[38;5;129;01mnot\u001b[39;00m evt_handled:\n\u001b[1;32m-> 1808\u001b[0m         \u001b[38;5;28;43mself\u001b[39;49m\u001b[38;5;241;43m.\u001b[39;49m\u001b[43mdialect\u001b[49m\u001b[38;5;241;43m.\u001b[39;49m\u001b[43mdo_execute\u001b[49m\u001b[43m(\u001b[49m\n\u001b[0;32m   1809\u001b[0m \u001b[43m            \u001b[49m\u001b[43mcursor\u001b[49m\u001b[43m,\u001b[49m\u001b[43m \u001b[49m\u001b[43mstatement\u001b[49m\u001b[43m,\u001b[49m\u001b[43m \u001b[49m\u001b[43mparameters\u001b[49m\u001b[43m,\u001b[49m\u001b[43m \u001b[49m\u001b[43mcontext\u001b[49m\n\u001b[0;32m   1810\u001b[0m \u001b[43m        \u001b[49m\u001b[43m)\u001b[49m\n\u001b[0;32m   1812\u001b[0m \u001b[38;5;28;01mif\u001b[39;00m \u001b[38;5;28mself\u001b[39m\u001b[38;5;241m.\u001b[39m_has_events \u001b[38;5;129;01mor\u001b[39;00m \u001b[38;5;28mself\u001b[39m\u001b[38;5;241m.\u001b[39mengine\u001b[38;5;241m.\u001b[39m_has_events:\n\u001b[0;32m   1813\u001b[0m     \u001b[38;5;28mself\u001b[39m\u001b[38;5;241m.\u001b[39mdispatch\u001b[38;5;241m.\u001b[39mafter_cursor_execute(\n\u001b[0;32m   1814\u001b[0m         \u001b[38;5;28mself\u001b[39m,\n\u001b[0;32m   1815\u001b[0m         cursor,\n\u001b[1;32m   (...)\u001b[0m\n\u001b[0;32m   1819\u001b[0m         context\u001b[38;5;241m.\u001b[39mexecutemany,\n\u001b[0;32m   1820\u001b[0m     )\n",
      "File \u001b[1;32m~\\anaconda3\\lib\\site-packages\\sqlalchemy\\engine\\default.py:732\u001b[0m, in \u001b[0;36mDefaultDialect.do_execute\u001b[1;34m(self, cursor, statement, parameters, context)\u001b[0m\n\u001b[0;32m    731\u001b[0m \u001b[38;5;28;01mdef\u001b[39;00m \u001b[38;5;21mdo_execute\u001b[39m(\u001b[38;5;28mself\u001b[39m, cursor, statement, parameters, context\u001b[38;5;241m=\u001b[39m\u001b[38;5;28;01mNone\u001b[39;00m):\n\u001b[1;32m--> 732\u001b[0m     \u001b[43mcursor\u001b[49m\u001b[38;5;241;43m.\u001b[39;49m\u001b[43mexecute\u001b[49m\u001b[43m(\u001b[49m\u001b[43mstatement\u001b[49m\u001b[43m,\u001b[49m\u001b[43m \u001b[49m\u001b[43mparameters\u001b[49m\u001b[43m)\u001b[49m\n",
      "\u001b[1;31mIntegrityError\u001b[0m: (sqlite3.IntegrityError) UNIQUE constraint failed: students.id\n[SQL: INSERT INTO students (id, firstname, lastname) VALUES (?, ?, ?)]\n[parameters: (1, 'Jay', 'Joe')]\n(Background on this error at: https://sqlalche.me/e/14/gkpj)"
     ]
    }
   ],
   "source": [
    "#SQLalchemy\n",
    "\n",
    "from sqlalchemy import create_engine,MetaData, Table, Column, Integer, String\n",
    "engine=create_engine('sqlite:///college.db',echo=True)\n",
    "#sqlalchemy creates a database is it doesnt exist\n",
    "#create a metadata instance\n",
    "meta=MetaData()\n",
    "#metadata is a container object that keeps together many different features of a data base/bases beinf described \n",
    "students=Table('students',meta,Column('id',Integer, primary_key=True),Column('firstname',String),Column('lastname',String))\n",
    "#create all tables\n",
    "meta.create_all(engine)\n",
    "##Insert\n",
    "#use insert() construct\n",
    "ins=students.insert()\n",
    "'INSERT INTO students (id,firstname,lastname) VALUES (:id,:firstname,:lastname)'\n",
    "\n",
    "conn=engine.connect()\n",
    "ins=students.insert().values(id=1,firstname=\"Jay\",lastname='Joe')\n",
    "result=conn.execute(ins)\n",
    "result.inserted_primary_key\n",
    "\n",
    "\n",
    "result=conn.execute(students.insert(),[\n",
    "  {'firstname':'Min','lastname':'Joe'},\n",
    "  {'firstname':'Mrin','lastname':'Roe'},\n",
    "  {'firstname':'Sata','lastname':'Lin'},\n",
    "  {'firstname':'Miya','lastname':'Raj'},\n",
    "])\n",
    "\n",
    "s=students.select()\n",
    "result= conn.execute(s)\n",
    "\n",
    "for i in result:\n",
    "    print(i)"
   ]
  },
  {
   "cell_type": "code",
   "execution_count": null,
   "id": "7bf2e573",
   "metadata": {},
   "outputs": [],
   "source": []
  },
  {
   "cell_type": "code",
   "execution_count": null,
   "id": "c0183a0f",
   "metadata": {},
   "outputs": [],
   "source": []
  }
 ],
 "metadata": {
  "kernelspec": {
   "display_name": "Python 3 (ipykernel)",
   "language": "python",
   "name": "python3"
  },
  "language_info": {
   "codemirror_mode": {
    "name": "ipython",
    "version": 3
   },
   "file_extension": ".py",
   "mimetype": "text/x-python",
   "name": "python",
   "nbconvert_exporter": "python",
   "pygments_lexer": "ipython3",
   "version": "3.9.12"
  }
 },
 "nbformat": 4,
 "nbformat_minor": 5
}
